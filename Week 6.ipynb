{
 "cells": [
  {
   "cell_type": "markdown",
   "id": "4a454d75-d679-4ac6-9488-158454fd4a2b",
   "metadata": {},
   "source": [
    "# Week 6"
   ]
  },
  {
   "cell_type": "markdown",
   "id": "58a7546c-02a7-4f21-aa04-26712296c106",
   "metadata": {},
   "source": [
    "## Exercise 1"
   ]
  },
  {
   "cell_type": "markdown",
   "id": "b6a740f8-7f64-45f3-9ca5-96863746a6f1",
   "metadata": {},
   "source": [
    "Three elements to keep in mind:\n",
    "- Start with a question (what do you want to communicate)\n",
    "- Allow the user to explore\n",
    "- Know your audience, design for them lysis?"
   ]
  },
  {
   "cell_type": "markdown",
   "id": "32771cd0-367a-440e-9951-1a46e05547e4",
   "metadata": {},
   "source": [
    "Example of cool data viz:\n",
    "- https://www.reuters.com/world-coronavirus-tracker-and-maps/graphics/world-coronavirus-tracker-and-maps/vaccination-rollout-and-access/\n",
    "- Shows coronavirus vaccination rates and other information.\n",
    "- Overview first:\n",
    "    - Shows the whole world, using colors to show how vaccinated a country is\n",
    "- Zoom and filter:\n",
    "    - User can click on a country or scroll further down the page for more information on the specific continents and regions\n",
    "- Details on demand:\n",
    "    - Click on a country and get more detailed information. More graphs and plots further down the page, you can find a specific country and see much more   "
   ]
  },
  {
   "cell_type": "markdown",
   "id": "6bbcb93f-df9b-42e3-b0d4-56769e89332c",
   "metadata": {},
   "source": [
    "Exploratory vs explanatory data analysis:\n",
    "- Overall, explanatory data analysis is for when you've already explored the data, and need to show your findings to others\n",
    "- Often, this is a new audience, who may not understand the dataset and specific data points\n",
    "- So it is up to you to explain and teach the audience about your data. "
   ]
  },
  {
   "cell_type": "markdown",
   "id": "f45bdb25-4c3f-4f23-afd7-252b1209c6a3",
   "metadata": {},
   "source": [
    "## Exercise 2"
   ]
  },
  {
   "cell_type": "code",
   "execution_count": 48,
   "id": "f35e4243-8b98-4774-a6bb-a4f4b289c1b1",
   "metadata": {},
   "outputs": [
    {
     "name": "stderr",
     "output_type": "stream",
     "text": [
      "C:\\Users\\maxhb\\AppData\\Local\\Temp\\ipykernel_28160\\1471762152.py:5: DtypeWarning: Columns (0) have mixed types. Specify dtype option on import or set low_memory=False.\n",
      "  data = pd.read_csv(\"Police_Department_Incident_Reports__Historical_2003_to_May_2018_20240130.csv\")\n",
      "C:\\Users\\maxhb\\AppData\\Local\\Temp\\ipykernel_28160\\1471762152.py:11: UserWarning: Could not infer format, so each element will be parsed individually, falling back to `dateutil`. To ensure parsing is consistent and as-expected, please specify a format.\n",
      "  data[\"Time\"] = pd.to_datetime(data[\"Time\"])\n"
     ]
    },
    {
     "name": "stdout",
     "output_type": "stream",
     "text": [
      "['ARSON', 'ASSAULT', 'BAD CHECKS', 'BRIBERY', 'BURGLARY', 'DISORDERLY CONDUCT', 'DRIVING UNDER THE INFLUENCE', 'DRUG/NARCOTIC', 'DRUNKENNESS', 'EMBEZZLEMENT', 'EXTORTION', 'FORGERY/COUNTERFEITING', 'FRAUD', 'GAMBLING', 'KIDNAPPING', 'LARCENY/THEFT', 'LIQUOR LAWS', 'LOITERING', 'MISSING PERSON', 'NON-CRIMINAL', 'OTHER OFFENSES', 'PORNOGRAPHY/OBSCENE MAT', 'PROSTITUTION', 'RECOVERED VEHICLE', 'ROBBERY', 'SECONDARY CODES', 'SEX OFFENSES, FORCIBLE', 'SEX OFFENSES, NON FORCIBLE', 'STOLEN PROPERTY', 'SUICIDE', 'SUSPICIOUS OCC', 'TREA', 'TRESPASS', 'VANDALISM', 'VEHICLE THEFT', 'WARRANTS', 'WEAPON LAWS']\n"
     ]
    }
   ],
   "source": [
    "import pandas as pd\n",
    "import matplotlib.pyplot as plt\n",
    "import bokeh\n",
    "\n",
    "data = pd.read_csv(\"Police_Department_Incident_Reports__Historical_2003_to_May_2018_20240130.csv\")\n",
    "focuscrimes = ['WEAPON LAWS', 'PROSTITUTION', 'DRIVING UNDER THE INFLUENCE', 'ROBBERY', \n",
    "               'BURGLARY', 'ASSAULT', 'DRUNKENNESS', 'TRESPASS', 'LARCENY/THEFT', \n",
    "               'VANDALISM', 'VEHICLE THEFT', 'FRAUD', 'DRUG/NARCOTIC', 'DISORDERLY CONDUCT']\n",
    "data[\"Date\"] = pd.to_datetime(data[\"Date\"])\n",
    "data = data[(data[\"Date\"] >= \"01-01-2010\") & (data[\"Date\"] <= \"31-12-2017\")]\n",
    "data[\"Time\"] = pd.to_datetime(data[\"Time\"])\n",
    "data[\"Hour\"] = data[\"Time\"].dt.hour\n",
    "data_hour = data.groupby(by=[\"Hour\", \"Category\"]).size()\n",
    "\n",
    "# Group by 'Category' and 'Hour' and count the number of incidents.\n",
    "category_hour_counts = data.groupby(['Category', 'Hour']).size().reset_index(name='Counts')\n",
    "\n",
    "# Calculate the total counts for each category over the entire period.\n",
    "total_counts_by_category = category_hour_counts.groupby('Category')['Counts'].sum().reset_index(name='TotalCounts')\n",
    "\n",
    "# Merge the total counts back to the hourly data.\n",
    "merged_data = category_hour_counts.merge(total_counts_by_category, on='Category')\n",
    "\n",
    "# Normalize the data by dividing the hourly counts by the total counts for each category.\n",
    "merged_data['Normalized'] = merged_data['Counts'] / merged_data['TotalCounts']\n",
    "\n",
    "# Pivot the table to have hours as rows and categories as columns with the normalized values as the data.\n",
    "normalized_pivot = merged_data.pivot(index='Hour', columns='Category', values='Normalized').fillna(0)\n",
    "\n",
    "# You may want to sort the categories if needed\n",
    "sorted_categories = normalized_pivot.reindex(sorted(normalized_pivot.columns), axis=1)\n",
    "sorted_names = sorted(normalized_pivot.columns)\n",
    "print(sorted_names)\n",
    "\n",
    "    "
   ]
  },
  {
   "cell_type": "code",
   "execution_count": 59,
   "id": "e8d45a45-43c5-46d4-8cf7-d22446248d36",
   "metadata": {},
   "outputs": [],
   "source": [
    "sorted_categories.to_csv(\"sorted.csv\", index=True);"
   ]
  },
  {
   "cell_type": "code",
   "execution_count": 72,
   "id": "211ff4c6-51e8-474e-9744-6765d0a56617",
   "metadata": {},
   "outputs": [],
   "source": [
    "from bokeh.plotting import figure, show\n",
    "from bokeh.models import ColumnDataSource, FactorRange, Legend\n",
    "from bokeh.palettes import Category20\n",
    "from bokeh.transform import linear_cmap\n",
    "\n",
    "source = bokeh.plotting.ColumnDataSource(sorted_categories)\n",
    "hours = ['0','1','2','3','4','5','6','7','8','9','10','11','12','13','14','15','16','17','18','19','20','21','22','23']\n",
    "p = figure(x_range=FactorRange(factors=hours), height=350, title=\"Category Hour Counts\",\n",
    "           toolbar_location=None, tools=\"\")\n",
    "bar ={} # to store vbars\n",
    "items = [] ### for the custom legend // you need to figure out where to add it\n",
    "palette = Category20\n",
    "\n",
    "# Map each crime to a color\n",
    "crime_to_color = {crime: Category20[len(focuscrimes)][i] for i, crime in enumerate(focuscrimes)}\n",
    "\n",
    "### here we will do a for loop:\n",
    "for indx,i in enumerate(focuscrimes):\n",
    "    #cmap = linear_cmap(field_name = 'Hour', palette=Category20, low=sorted_categories.min().min(), high=sorted_categories.max().max())\n",
    "    bar[i] = p.vbar(x = 'Hour',  top=i, source= source, \n",
    "                    ### we will create a vbar for each focuscrime\n",
    "                    muted_alpha = 0.2, muted = True, width = 0.8, color=crime_to_color[i])\n",
    "    \n",
    "    items.append((i, [bar[i]])) ### figure where to add it\n",
    "#i stands for a column that we use, top=y; we are specifying that our numbers comes from column i\n",
    "#read up what legend_label, muted and muted_alpha do... you can add more attributes (you HAVE TO)\n",
    "\n",
    "legend = Legend(items=items, location=[0,-30]) ## figure where to add it\n",
    "p.add_layout(legend, 'right') ## figure where to add it\n",
    "### if you read the guide, it will make sense\n",
    "\n",
    "p.legend.click_policy=\"mute\" ### assigns the click policy (you can try to use ''hide'\n",
    "show(p) #displays your plot\n"
   ]
  },
  {
   "cell_type": "code",
   "execution_count": null,
   "id": "a695d93a-e94a-4333-9d7d-9d925d73e22c",
   "metadata": {},
   "outputs": [],
   "source": []
  }
 ],
 "metadata": {
  "kernelspec": {
   "display_name": "Python 3 (ipykernel)",
   "language": "python",
   "name": "python3"
  },
  "language_info": {
   "codemirror_mode": {
    "name": "ipython",
    "version": 3
   },
   "file_extension": ".py",
   "mimetype": "text/x-python",
   "name": "python",
   "nbconvert_exporter": "python",
   "pygments_lexer": "ipython3",
   "version": "3.11.5"
  }
 },
 "nbformat": 4,
 "nbformat_minor": 5
}
